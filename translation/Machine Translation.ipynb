{
 "cells": [
  {
   "cell_type": "code",
   "execution_count": null,
   "id": "alert-nursing",
   "metadata": {},
   "outputs": [],
   "source": [
    "from transformers import MBartTokenizer, MBartForConditionalGeneration, MBart50TokenizerFast\n",
    "from transformers import AdamW, get_linear_schedule_with_warmup\n",
    "from transformers.models.bart.modeling_bart import shift_tokens_right\n",
    "import torch \n",
    "import torch.nn as nn\n",
    "from torch.utils.data import DataLoader, Dataset, RandomSampler, SequentialSampler\n",
    "from datasets import load_metric\n",
    "from tqdm.notebook import tqdm\n",
    "\n",
    "import numpy as np\n",
    "import pandas as pd\n",
    "from matplotlib import pyplot as plt\n",
    "from sklearn.model_selection import train_test_split\n",
    "import re\n",
    "import random"
   ]
  },
  {
   "cell_type": "code",
   "execution_count": null,
   "id": "legal-pierre",
   "metadata": {},
   "outputs": [],
   "source": [
    "# Hyper params\n",
    "batch_size = 1\n",
    "epochs = 2\n",
    "learning_rate = 4e-5"
   ]
  },
  {
   "cell_type": "code",
   "execution_count": null,
   "id": "willing-mitchell",
   "metadata": {},
   "outputs": [],
   "source": [
    "if torch.cuda.is_available():\n",
    "    device = torch.device('cuda')\n",
    "else:\n",
    "    device = torch.device('cpu')"
   ]
  },
  {
   "cell_type": "code",
   "execution_count": null,
   "id": "retained-helmet",
   "metadata": {},
   "outputs": [],
   "source": [
    "def seed_data(seed_val=42):\n",
    "    random.seed(seed_val)\n",
    "    np.random.seed(seed_val)\n",
    "    torch.manual_seed(seed_val)\n",
    "    torch.cuda.manual_seed_all(seed_val)"
   ]
  },
  {
   "cell_type": "markdown",
   "id": "medical-diagnosis",
   "metadata": {},
   "source": [
    "# Simple EDA"
   ]
  },
  {
   "cell_type": "code",
   "execution_count": null,
   "id": "supported-editing",
   "metadata": {},
   "outputs": [],
   "source": [
    "df = pd.read_csv('data/eng_-french.csv')"
   ]
  },
  {
   "cell_type": "code",
   "execution_count": null,
   "id": "professional-straight",
   "metadata": {},
   "outputs": [],
   "source": [
    "df.head()"
   ]
  },
  {
   "cell_type": "code",
   "execution_count": null,
   "id": "tutorial-wagner",
   "metadata": {},
   "outputs": [],
   "source": [
    "df.tail()"
   ]
  },
  {
   "cell_type": "code",
   "execution_count": null,
   "id": "similar-investor",
   "metadata": {},
   "outputs": [],
   "source": [
    "df['english_length'] = df['English words/sentences'].apply(lambda x: len(x.split()))\n",
    "df['french_length'] = df['French words/sentences'].apply(lambda x: len(x.split()))"
   ]
  },
  {
   "cell_type": "code",
   "execution_count": null,
   "id": "occasional-assets",
   "metadata": {},
   "outputs": [],
   "source": [
    "df['english_length'].max(), df['english_length'].min()"
   ]
  },
  {
   "cell_type": "code",
   "execution_count": null,
   "id": "sixth-chapter",
   "metadata": {},
   "outputs": [],
   "source": [
    "df['french_length'].max(), df['english_length'].min()"
   ]
  },
  {
   "cell_type": "markdown",
   "id": "golden-construction",
   "metadata": {},
   "source": [
    "# Clean data & Split"
   ]
  },
  {
   "cell_type": "code",
   "execution_count": null,
   "id": "criminal-gravity",
   "metadata": {},
   "outputs": [],
   "source": [
    "def remove_special_char(x):\n",
    "    if len(x.split()) > 1:\n",
    "        return re.sub('[^A-Za-z0-9]+', ' ', x)\n",
    "    else:\n",
    "        return re.sub('[^A-Za-z0-9]+', '', x)\n",
    "    \n",
    "def remove_empty_last_space(x):\n",
    "    x = x.split()\n",
    "    x = [s for s in x if s != ' ']\n",
    "    \n",
    "    return ' '.join(x)"
   ]
  },
  {
   "cell_type": "code",
   "execution_count": null,
   "id": "sublime-terrorist",
   "metadata": {},
   "outputs": [],
   "source": [
    "# remove \n",
    "df['English words/sentences'] = df['English words/sentences'].apply(lambda x: remove_special_char(x))\n",
    "df['English words/sentences'] = df['English words/sentences'].apply(lambda x: remove_empty_last_space(x))\n",
    "\n",
    "df['French words/sentences'] = df['French words/sentences'].apply(lambda x: remove_special_char(x))\n",
    "df['French words/sentences'] = df['French words/sentences'].apply(lambda x: remove_empty_last_space(x))"
   ]
  },
  {
   "cell_type": "code",
   "execution_count": null,
   "id": "fundamental-budapest",
   "metadata": {},
   "outputs": [],
   "source": [
    "# Split to train and test\n",
    "train_df, test_df = train_test_split(df, test_size=0.2, random_state=2020)\n",
    "eval_df, test_df = train_test_split(test_df, test_size=0.5, random_state=2021) # Further split for eval and test"
   ]
  },
  {
   "cell_type": "markdown",
   "id": "collectible-decision",
   "metadata": {},
   "source": [
    "# Prepare dataset"
   ]
  },
  {
   "cell_type": "code",
   "execution_count": null,
   "id": "extended-channel",
   "metadata": {},
   "outputs": [],
   "source": [
    "tokenizer = MBart50TokenizerFast.from_pretrained(\"facebook/mbart-large-50\", src_lang=\"en_XX\", tgt_lang=\"es_XX\")"
   ]
  },
  {
   "cell_type": "code",
   "execution_count": null,
   "id": "frank-latvia",
   "metadata": {},
   "outputs": [],
   "source": [
    "class Seq2SeqDataset(Dataset):\n",
    "    def __init__(self, tokenizer, df, max_length=55):\n",
    "        self.tokenizer = tokenizer\n",
    "        self.df = df\n",
    "        self.max_length = max_length\n",
    "        \n",
    "    def __len__(self):\n",
    "        return self.df.shape[0]\n",
    "    \n",
    "    def __getitem__(self, index):\n",
    "        data = self.df.iloc[index]\n",
    "        input_text = data['English words/sentences']\n",
    "        target_text = data['French words/sentences']\n",
    "        \n",
    "        tokenized_example = tokenizer.prepare_seq2seq_batch(\n",
    "            src_texts=[input_text],\n",
    "            tgt_texts=[target_text],\n",
    "            src_lang='en_XX',\n",
    "            tgt_lang='es_XX',\n",
    "            max_length=self.max_length,\n",
    "            padding=\"max_length\", \n",
    "            return_tensors=\"pt\",\n",
    "            truncation=True,\n",
    "        )\n",
    "        decoder_input_ids = tokenized_example[\"labels\"].clone()\n",
    "        decoder_input_ids = shift_tokens_right(\n",
    "            decoder_input_ids, tokenizer.pad_token_id, tokenizer.lang_code_to_id['es_XX']\n",
    "        )\n",
    "        labels = tokenized_example[\"labels\"]\n",
    "        labels[labels == tokenizer.pad_token_id] = -100\n",
    "        \n",
    "        return {\n",
    "            'input_ids': tokenized_example['input_ids'].squeeze(),\n",
    "            'attention_mask': tokenized_example['attention_mask'].squeeze(),\n",
    "            'decoder_input_ids': decoder_input_ids.squeeze(),\n",
    "            'labels': labels.squeeze()\n",
    "        }"
   ]
  },
  {
   "cell_type": "code",
   "execution_count": null,
   "id": "hindu-oriental",
   "metadata": {},
   "outputs": [],
   "source": [
    "train_dataset = Seq2SeqDataset(tokenizer, train_df)\n",
    "eval_dataset = Seq2SeqDataset(tokenizer, eval_df)\n",
    "\n",
    "train_sampler = RandomSampler(train_dataset)\n",
    "train_dataloader = DataLoader(train_dataset, sampler=train_sampler, batch_size=batch_size)\n",
    "\n",
    "eval_sampler = SequentialSampler(eval_dataset)\n",
    "eval_dataloader = DataLoader(eval_dataset, sampler=eval_sampler, batch_size=batch_size)"
   ]
  },
  {
   "cell_type": "markdown",
   "id": "progressive-shell",
   "metadata": {},
   "source": [
    "# Prepare model"
   ]
  },
  {
   "cell_type": "code",
   "execution_count": null,
   "id": "united-opposition",
   "metadata": {},
   "outputs": [],
   "source": [
    "model = MBartForConditionalGeneration.from_pretrained('facebook/mbart-large-50')\n",
    "model.to(device)"
   ]
  },
  {
   "cell_type": "code",
   "execution_count": null,
   "id": "historical-republican",
   "metadata": {
    "scrolled": true
   },
   "outputs": [],
   "source": [
    "# prepare metric for evaluation\n",
    "metrics = load_metric('sacrebleu')"
   ]
  },
  {
   "cell_type": "code",
   "execution_count": null,
   "id": "finite-scheduling",
   "metadata": {},
   "outputs": [],
   "source": [
    "optimizer = AdamW(\n",
    "    model.parameters(),\n",
    "    lr=learning_rate,\n",
    "    eps=1e-8\n",
    ")\n",
    "scheduler = get_linear_schedule_with_warmup(\n",
    "    optimizer, num_warmup_steps=0, num_training_steps=len(train_dataloader) * epochs\n",
    ")"
   ]
  },
  {
   "cell_type": "code",
   "execution_count": null,
   "id": "dressed-preserve",
   "metadata": {
    "scrolled": true
   },
   "outputs": [],
   "source": [
    "seed_data(10)\n",
    "\n",
    "loss_values = []\n",
    "\n",
    "for i in tqdm(range(epochs)):\n",
    "    # Training\n",
    "    model.train()\n",
    "    total_loss = 0\n",
    "    \n",
    "    for batch, data in tqdm(enumerate(train_dataloader), total=len(train_dataloader), leave=False):\n",
    "        input_ids = data['input_ids'].to(device)\n",
    "        attn_mask = data['attention_mask'].to(device)\n",
    "        decoder_input_ids = data['decoder_input_ids'].to(device)\n",
    "        labels = data['labels'].to(device)\n",
    "        \n",
    "        model.zero_grad()\n",
    "        \n",
    "        # Forward pass\n",
    "        outputs = model(\n",
    "            input_ids,\n",
    "            attention_mask=attn_mask,\n",
    "            decoder_input_ids=decoder_input_ids, \n",
    "            labels=labels\n",
    "        )\n",
    "        \n",
    "        loss, logits = outputs[:2]\n",
    "        \n",
    "        curr_loss = loss.item()\n",
    "        loss.backward()\n",
    "        \n",
    "        torch.nn.utils.clip_grad_norm(model.parameters(), 1.0)\n",
    "        optimizer.step()\n",
    "        scheduler.step()\n",
    "        \n",
    "        total_loss += curr_loss\n",
    "    \n",
    "        if batch % 300 == 0:\n",
    "            labels = labels.detach().cpu().numpy()\n",
    "            metrics.add_batch(predictions=logits, references=labels)\n",
    "            print('Score: {} '.format(metrics.compute()))\n",
    "            \n",
    "    # Calculate the average loss over the training data.\n",
    "    avg_train_loss = total_loss / len(train_dataloader)            \n",
    "    \n",
    "    # Store the loss value for plotting the learning curve.\n",
    "    loss_values.append(avg_train_loss)\n",
    "\n",
    "    print(\"\")\n",
    "    print(\"  Average training loss: {0:.3f}\".format(avg_train_loss))"
   ]
  }
 ],
 "metadata": {
  "kernelspec": {
   "display_name": "Python 3",
   "language": "python",
   "name": "python3"
  },
  "language_info": {
   "codemirror_mode": {
    "name": "ipython",
    "version": 3
   },
   "file_extension": ".py",
   "mimetype": "text/x-python",
   "name": "python",
   "nbconvert_exporter": "python",
   "pygments_lexer": "ipython3",
   "version": "3.8.8"
  }
 },
 "nbformat": 4,
 "nbformat_minor": 5
}
