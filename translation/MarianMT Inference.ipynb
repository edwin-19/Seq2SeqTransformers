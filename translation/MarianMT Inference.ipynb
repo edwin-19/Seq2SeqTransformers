{
 "cells": [
  {
   "cell_type": "code",
   "execution_count": 1,
   "id": "cooperative-coupon",
   "metadata": {},
   "outputs": [],
   "source": [
    "from simpletransformers.seq2seq import Seq2SeqModel\n",
    "import datasets\n",
    "\n",
    "from sklearn.model_selection import train_test_split\n",
    "import pandas as pd\n",
    "import numpy as np\n",
    "import torch\n",
    "import re"
   ]
  },
  {
   "cell_type": "code",
   "execution_count": 2,
   "id": "dense-story",
   "metadata": {},
   "outputs": [],
   "source": [
    "df = pd.read_csv('data/mt/eng_-french.csv')\n",
    "df['English words/sentences'] = df['English words/sentences'].apply(lambda x: re.sub(r\"[^a-zA-Z0-9]+\", ' ', x))\n",
    "df['French words/sentences'] = df['French words/sentences'].apply(lambda x: re.sub(r\"[^a-zA-Z0-9]+\", ' ', x))"
   ]
  },
  {
   "cell_type": "code",
   "execution_count": 4,
   "id": "curious-priest",
   "metadata": {},
   "outputs": [],
   "source": [
    "model = Seq2SeqModel(\n",
    "    encoder_decoder_type='marian',\n",
    "    encoder_decoder_name='weights/outputs/best_model/',\n",
    "    use_cuda=torch.cuda.is_available()\n",
    ")"
   ]
  },
  {
   "cell_type": "code",
   "execution_count": 13,
   "id": "distributed-principle",
   "metadata": {},
   "outputs": [
    {
     "data": {
      "application/vnd.jupyter.widget-view+json": {
       "model_id": "06c68c3707184b49ae4104184562586d",
       "version_major": 2,
       "version_minor": 0
      },
      "text/plain": [
       "HBox(children=(FloatProgress(value=0.0, description='Generating outputs', max=1.0, style=ProgressStyle(descrip…"
      ]
     },
     "metadata": {},
     "output_type": "display_data"
    },
    {
     "name": "stdout",
     "output_type": "stream",
     "text": [
      "\n"
     ]
    }
   ],
   "source": [
    "outputs = model.predict(df['English words/sentences'].iloc[:10].values.tolist())"
   ]
  },
  {
   "cell_type": "code",
   "execution_count": 7,
   "id": "buried-gross",
   "metadata": {},
   "outputs": [],
   "source": [
    "metric = datasets.load_metric('bleu')"
   ]
  },
  {
   "cell_type": "code",
   "execution_count": 8,
   "id": "basic-probability",
   "metadata": {},
   "outputs": [],
   "source": [
    "english_text = df['English words/sentences'].tolist()\n",
    "french_text = df['French words/sentences'].tolist()"
   ]
  },
  {
   "cell_type": "code",
   "execution_count": 23,
   "id": "rental-webmaster",
   "metadata": {},
   "outputs": [
    {
     "name": "stdout",
     "output_type": "stream",
     "text": [
      "Eng Text: Hi \n",
      "Ori FR: salut \n",
      "Pred FR: bonjour\n",
      "Bleu Score: 0.0\n",
      "\n",
      "Eng Text: Run \n",
      "Ori FR: cours \n",
      "Pred FR: courez\n",
      "Bleu Score: 0.0\n",
      "\n",
      "Eng Text: Run \n",
      "Ori FR: courez \n",
      "Pred FR: courez\n",
      "Bleu Score: 0.0\n",
      "\n",
      "Eng Text: Who \n",
      "Ori FR: qui \n",
      "Pred FR: qui\n",
      "Bleu Score: 0.0\n",
      "\n",
      "Eng Text: Wow \n",
      "Ori FR:  a alors \n",
      "Pred FR: ouhau\n",
      "Bleu Score: 0.0\n",
      "\n",
      "Eng Text: Fire \n",
      "Ori FR: au feu \n",
      "Pred FR: feu\n",
      "Bleu Score: 0.0\n",
      "\n",
      "Eng Text: Help \n",
      "Ori FR:  l aide \n",
      "Pred FR: aide\n",
      "Bleu Score: 0.0\n",
      "\n",
      "Eng Text: Jump \n",
      "Ori FR: saute \n",
      "Pred FR: salue\n",
      "Bleu Score: 0.0\n",
      "\n",
      "Eng Text: Stop \n",
      "Ori FR:  a suffit \n",
      "Pred FR: arr te\n",
      "Bleu Score: 0.0\n",
      "\n",
      "Eng Text: Stop \n",
      "Ori FR: stop \n",
      "Pred FR: arr te\n",
      "Bleu Score: 0.0\n",
      "\n"
     ]
    }
   ],
   "source": [
    "for eng_text, ori_fr_text, pred_fr_text in zip(english_text[:10], french_text[:10], outputs):\n",
    "    print('Eng Text: {}'.format(eng_text))\n",
    "    print('Ori FR: {}'.format(ori_fr_text.lower()))\n",
    "    print('Pred FR: {}'.format(pred_fr_text.lower()))\n",
    "    \n",
    "    bleu = metric.compute(predictions=[pred_fr_text.lower().split()], references=[[ori_fr_text.lower().split()]])\n",
    "    print('Bleu Score: {}\\n'.format(bleu['bleu']))"
   ]
  }
 ],
 "metadata": {
  "kernelspec": {
   "display_name": "Python 3",
   "language": "python",
   "name": "python3"
  },
  "language_info": {
   "codemirror_mode": {
    "name": "ipython",
    "version": 3
   },
   "file_extension": ".py",
   "mimetype": "text/x-python",
   "name": "python",
   "nbconvert_exporter": "python",
   "pygments_lexer": "ipython3",
   "version": "3.8.8"
  }
 },
 "nbformat": 4,
 "nbformat_minor": 5
}
