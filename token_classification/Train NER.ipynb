{
 "cells": [
  {
   "cell_type": "code",
   "execution_count": 1,
   "id": "green-hello",
   "metadata": {},
   "outputs": [],
   "source": [
    "import torch\n",
    "import torch.nn as nn\n",
    "import torch.nn.functional as F\n",
    "from torch.utils.data import DataLoader, Dataset, SequentialSampler, RandomSampler\n",
    "\n",
    "from transformers import DistilBertModel, DistilBertTokenizerFast\n",
    "from transformers import AdamW, get_linear_schedule_with_warmup\n",
    "\n",
    "from datasets import load_metric"
   ]
  },
  {
   "cell_type": "code",
   "execution_count": 2,
   "id": "functioning-density",
   "metadata": {},
   "outputs": [],
   "source": [
    "from sklearn.model_selection import train_test_split\n",
    "from sklearn.preprocessing import LabelEncoder\n",
    "from sklearn.metrics import classification_report, confusion_matrix, matthews_corrcoef\n",
    "\n",
    "import pandas as pd\n",
    "import numpy as np\n",
    "from matplotlib import pyplot as plt\n",
    "import seaborn as sns\n",
    "from tqdm.notebook import tqdm"
   ]
  },
  {
   "cell_type": "markdown",
   "id": "velvet-limit",
   "metadata": {},
   "source": [
    "# Hyperparams"
   ]
  },
  {
   "cell_type": "code",
   "execution_count": 3,
   "id": "applicable-republican",
   "metadata": {},
   "outputs": [],
   "source": [
    "epochs = 4\n",
    "learning_rate = 2e-5\n",
    "eps = 1e-7\n",
    "batch_size = 32"
   ]
  },
  {
   "cell_type": "markdown",
   "id": "owned-brave",
   "metadata": {},
   "source": [
    "# Load & preprocess data"
   ]
  },
  {
   "cell_type": "code",
   "execution_count": 4,
   "id": "criminal-occasions",
   "metadata": {},
   "outputs": [],
   "source": [
    "df = pd.read_csv('data/archive/ner_dataset.csv', encoding=\"latin-1\")"
   ]
  },
  {
   "cell_type": "code",
   "execution_count": 5,
   "id": "greenhouse-compatibility",
   "metadata": {},
   "outputs": [],
   "source": [
    "tag_encoder = LabelEncoder()\n",
    "tag_encoder.fit(df['Tag']);"
   ]
  },
  {
   "cell_type": "code",
   "execution_count": 6,
   "id": "radio-illness",
   "metadata": {},
   "outputs": [],
   "source": [
    "df['Sentence #'] = df['Sentence #'].fillna(method=\"ffill\")\n",
    "df['Tag_Encoded'] = tag_encoder.transform(df['Tag'])\n",
    "\n",
    "sentences = df.groupby('Sentence #')[\"Word\"].apply(list).values\n",
    "tag_encoded = df.groupby('Sentence #')[\"Tag_Encoded\"].apply(list).values"
   ]
  },
  {
   "cell_type": "code",
   "execution_count": 7,
   "id": "central-olympus",
   "metadata": {},
   "outputs": [],
   "source": [
    "train_sentences, test_sentences, train_tag, test_tag = train_test_split(sentences, tag_encoded, test_size=0.3, random_state=2021)\n",
    "test_sentences, valid_sentences, test_tag, valid_tag = train_test_split(test_sentences, test_tag, test_size=0.5, random_state=2021)"
   ]
  },
  {
   "cell_type": "markdown",
   "id": "signal-moderator",
   "metadata": {},
   "source": [
    "# Prepare dataset and loader"
   ]
  },
  {
   "cell_type": "code",
   "execution_count": 8,
   "id": "exempt-gardening",
   "metadata": {},
   "outputs": [],
   "source": [
    "tokenizer = DistilBertTokenizerFast.from_pretrained('distilbert-base-cased')"
   ]
  },
  {
   "cell_type": "code",
   "execution_count": 9,
   "id": "colonial-horror",
   "metadata": {},
   "outputs": [],
   "source": [
    "class NERDataset(Dataset):\n",
    "    def __init__(self, sentences, labels, tokenizer, max_len=128):\n",
    "        super(NERDataset, self).__init__()\n",
    "        self.sentences = sentences\n",
    "        self.labels = labels\n",
    "        self.tokenizer = tokenizer\n",
    "        self.max_len = max_len\n",
    "        \n",
    "    def __len__(self):\n",
    "        return len(self.sentences)\n",
    "    \n",
    "    def __getitem__(self, index):\n",
    "        sentence = self.sentences[index]\n",
    "        label = self.labels[index]\n",
    "        \n",
    "        tokenized_input = self.tokenizer(\n",
    "            sentence, is_split_into_words=True, return_offsets_mapping=True, padding='max_length', truncation=True,\n",
    "            return_tensors='pt', max_length=self.max_len\n",
    "        )\n",
    "        \n",
    "        labels = []\n",
    "        previous_word_idx = None\n",
    "        label_all_tokens = True\n",
    "        \n",
    "        word_ids = tokenized_input.word_ids()\n",
    "        \n",
    "        for word_idx in word_ids:\n",
    "            if word_idx is None:\n",
    "                labels.append(-100)\n",
    "            elif word_idx != previous_word_idx:\n",
    "                labels.append(label[word_idx])\n",
    "            else:\n",
    "                labels.append(label[word_idx] if label_all_tokens else -100)\n",
    "            previous_word_idx = word_idx\n",
    "            \n",
    "        return {\n",
    "            'input_ids': tokenized_input['input_ids'].squeeze(0),\n",
    "            'attention_mask': tokenized_input['attention_mask'].squeeze(0),\n",
    "            'labels': torch.tensor(labels)\n",
    "        }"
   ]
  },
  {
   "cell_type": "code",
   "execution_count": 10,
   "id": "piano-highland",
   "metadata": {},
   "outputs": [],
   "source": [
    "train_dataset = NERDataset(train_sentences, train_tag, tokenizer)\n",
    "train_sampler = RandomSampler(train_dataset)\n",
    "train_dataloader = DataLoader(train_dataset, batch_size=batch_size, sampler=train_sampler)\n",
    "\n",
    "valid_dataset = NERDataset(valid_sentences, valid_tag, tokenizer)\n",
    "valid_sampler = SequentialSampler(valid_dataset)\n",
    "valid_dataloader = DataLoader(valid_dataset, batch_size=batch_size, sampler=valid_sampler)"
   ]
  },
  {
   "cell_type": "markdown",
   "id": "personal-context",
   "metadata": {},
   "source": [
    "# Build Model"
   ]
  },
  {
   "cell_type": "code",
   "execution_count": 11,
   "id": "oriented-valentine",
   "metadata": {},
   "outputs": [],
   "source": [
    "class NERModel(nn.Module):\n",
    "    def __init__(self):\n",
    "        super(NERModel, self).__init__()\n",
    "        self.bert_model = DistilBertModel.from_pretrained('distilbert-base-cased')\n",
    "        self.classifier = nn.Sequential(\n",
    "            nn.Dropout(0.1),\n",
    "            nn.Linear(768, 256),\n",
    "            nn.GELU(),\n",
    "            nn.Linear(256, 17)\n",
    "        )\n",
    "        \n",
    "    def forward(self, input_ids, attention_mask):\n",
    "        outputs = self.bert_model(input_ids, attention_mask)\n",
    "        return self.classifier(outputs[0])"
   ]
  },
  {
   "cell_type": "code",
   "execution_count": 12,
   "id": "renewable-twelve",
   "metadata": {},
   "outputs": [
    {
     "name": "stderr",
     "output_type": "stream",
     "text": [
      "Some weights of the model checkpoint at distilbert-base-cased were not used when initializing DistilBertModel: ['vocab_layer_norm.bias', 'vocab_projector.weight', 'vocab_transform.weight', 'vocab_projector.bias', 'vocab_transform.bias', 'vocab_layer_norm.weight']\n",
      "- This IS expected if you are initializing DistilBertModel from the checkpoint of a model trained on another task or with another architecture (e.g. initializing a BertForSequenceClassification model from a BertForPreTraining model).\n",
      "- This IS NOT expected if you are initializing DistilBertModel from the checkpoint of a model that you expect to be exactly identical (initializing a BertForSequenceClassification model from a BertForSequenceClassification model).\n"
     ]
    }
   ],
   "source": [
    "model = NERModel()\n",
    "model.to('cuda');"
   ]
  },
  {
   "cell_type": "code",
   "execution_count": 13,
   "id": "recorded-scratch",
   "metadata": {},
   "outputs": [],
   "source": [
    "optimizer = AdamW(model.parameters(), lr=learning_rate, eps=eps)\n",
    "scheduler = get_linear_schedule_with_warmup(optimizer, num_warmup_steps=0, num_training_steps=epochs * len(train_dataloader))\n",
    "criterion = nn.CrossEntropyLoss()"
   ]
  },
  {
   "cell_type": "markdown",
   "id": "instant-ghana",
   "metadata": {},
   "source": [
    "# Training Loop"
   ]
  },
  {
   "cell_type": "code",
   "execution_count": 14,
   "id": "brazilian-officer",
   "metadata": {},
   "outputs": [],
   "source": [
    "metric = load_metric(\"seqeval\")"
   ]
  },
  {
   "cell_type": "code",
   "execution_count": 15,
   "id": "measured-cricket",
   "metadata": {},
   "outputs": [],
   "source": [
    "label_list = tag_encoder.classes_.tolist()"
   ]
  },
  {
   "cell_type": "code",
   "execution_count": 16,
   "id": "usual-estimate",
   "metadata": {},
   "outputs": [],
   "source": [
    "def compute_metrics(preds, targets):\n",
    "    preds = np.concatenate(preds)\n",
    "    targets = np.concatenate(targets)\n",
    "\n",
    "    predictions = np.argmax(preds, axis=2)\n",
    "\n",
    "    true_predictions = [\n",
    "        [label_list[p] for (p, l) in zip(prediction, label) if l != -100]\n",
    "        for prediction, label in zip(predictions, targets)\n",
    "    ]\n",
    "    true_labels = [\n",
    "        [label_list[l] for (p, l) in zip(prediction, label) if l != -100]\n",
    "        for prediction, label in zip(predictions, targets)\n",
    "    ]\n",
    "    results = metric.compute(predictions=true_predictions, references=true_labels)\n",
    "    \n",
    "    return results"
   ]
  },
  {
   "cell_type": "code",
   "execution_count": 17,
   "id": "personalized-sugar",
   "metadata": {},
   "outputs": [
    {
     "data": {
      "application/vnd.jupyter.widget-view+json": {
       "model_id": "881609c2c9134680acb75a3cc2717d41",
       "version_major": 2,
       "version_minor": 0
      },
      "text/plain": [
       "HBox(children=(FloatProgress(value=0.0, max=4.0), HTML(value='')))"
      ]
     },
     "metadata": {},
     "output_type": "display_data"
    },
    {
     "data": {
      "application/vnd.jupyter.widget-view+json": {
       "model_id": "56e90ef605b8485db5e9723f50891c97",
       "version_major": 2,
       "version_minor": 0
      },
      "text/plain": [
       "HBox(children=(FloatProgress(value=0.0, max=1050.0), HTML(value='')))"
      ]
     },
     "metadata": {},
     "output_type": "display_data"
    },
    {
     "name": "stdout",
     "output_type": "stream",
     "text": [
      "Current Loss: 0.19346215570256822\n",
      "Current Loss: 0.27303150238735335\n",
      "\n",
      "[Training Epoch 1] Training loss: 0.280\n",
      "[Training Metrics]\n",
      "Precision: 70.52\n",
      "Recall: 67.65\n",
      "F1 Score: 69.05\n",
      "Acc: 93.01\n"
     ]
    },
    {
     "data": {
      "application/vnd.jupyter.widget-view+json": {
       "model_id": "2b4a59157a004dabaee0df1cd6266195",
       "version_major": 2,
       "version_minor": 0
      },
      "text/plain": [
       "HBox(children=(FloatProgress(value=0.0, max=225.0), HTML(value='')))"
      ]
     },
     "metadata": {},
     "output_type": "display_data"
    },
    {
     "name": "stdout",
     "output_type": "stream",
     "text": [
      "\n"
     ]
    },
    {
     "name": "stderr",
     "output_type": "stream",
     "text": [
      "/home/superceed1/anaconda3/envs/py38torch17/lib/python3.8/site-packages/seqeval/metrics/v1.py:57: UndefinedMetricWarning: Precision and F-score are ill-defined and being set to 0.0 in labels with no predicted samples. Use `zero_division` parameter to control this behavior.\n",
      "  _warn_prf(average, modifier, msg_start, len(result))\n"
     ]
    },
    {
     "name": "stdout",
     "output_type": "stream",
     "text": [
      "[Validation Epoch 1]\n",
      "Validation loss: 0.148\n",
      "[Validation Metrics]\n",
      "Precision: 79.88\n",
      "Recall: 79.96\n",
      "F1 Score: 79.92\n",
      "Acc: 95.59\n"
     ]
    },
    {
     "data": {
      "application/vnd.jupyter.widget-view+json": {
       "model_id": "0d215dbda314469b93c67a7a7307d8a8",
       "version_major": 2,
       "version_minor": 0
      },
      "text/plain": [
       "HBox(children=(FloatProgress(value=0.0, max=1050.0), HTML(value='')))"
      ]
     },
     "metadata": {},
     "output_type": "display_data"
    },
    {
     "name": "stdout",
     "output_type": "stream",
     "text": [
      "Current Loss: 0.06484471455925987\n",
      "Current Loss: 0.12701310107750552\n",
      "\n",
      "[Training Epoch 2] Training loss: 0.133\n",
      "[Training Metrics]\n",
      "Precision: 81.37\n",
      "Recall: 81.29\n",
      "F1 Score: 81.33\n",
      "Acc: 96.0\n"
     ]
    },
    {
     "data": {
      "application/vnd.jupyter.widget-view+json": {
       "model_id": "8eca3b28de824f0f864a3c5ee53420fd",
       "version_major": 2,
       "version_minor": 0
      },
      "text/plain": [
       "HBox(children=(FloatProgress(value=0.0, max=225.0), HTML(value='')))"
      ]
     },
     "metadata": {},
     "output_type": "display_data"
    },
    {
     "name": "stdout",
     "output_type": "stream",
     "text": [
      "\n",
      "[Validation Epoch 2]\n",
      "Validation loss: 0.136\n",
      "[Validation Metrics]\n",
      "Precision: 81.36\n",
      "Recall: 80.85\n",
      "F1 Score: 81.1\n",
      "Acc: 95.85\n"
     ]
    },
    {
     "data": {
      "application/vnd.jupyter.widget-view+json": {
       "model_id": "e3ca200b892c4d90a2dc385b16a2ee16",
       "version_major": 2,
       "version_minor": 0
      },
      "text/plain": [
       "HBox(children=(FloatProgress(value=0.0, max=1050.0), HTML(value='')))"
      ]
     },
     "metadata": {},
     "output_type": "display_data"
    },
    {
     "name": "stdout",
     "output_type": "stream",
     "text": [
      "Current Loss: 0.053035764158481644\n",
      "Current Loss: 0.10351296813715072\n",
      "\n",
      "[Training Epoch 3] Training loss: 0.108\n",
      "[Training Metrics]\n",
      "Precision: 84.01\n",
      "Recall: 83.91\n",
      "F1 Score: 83.96\n",
      "Acc: 96.66\n"
     ]
    },
    {
     "data": {
      "application/vnd.jupyter.widget-view+json": {
       "model_id": "baaf77e6cc0d4c1793f6bbba7531c30f",
       "version_major": 2,
       "version_minor": 0
      },
      "text/plain": [
       "HBox(children=(FloatProgress(value=0.0, max=225.0), HTML(value='')))"
      ]
     },
     "metadata": {},
     "output_type": "display_data"
    },
    {
     "name": "stdout",
     "output_type": "stream",
     "text": [
      "\n",
      "[Validation Epoch 3]\n",
      "Validation loss: 0.131\n",
      "[Validation Metrics]\n",
      "Precision: 81.89\n",
      "Recall: 82.06\n",
      "F1 Score: 81.98\n",
      "Acc: 95.95\n"
     ]
    },
    {
     "data": {
      "application/vnd.jupyter.widget-view+json": {
       "model_id": "f2254fdcc7454511b714f1be88b64c77",
       "version_major": 2,
       "version_minor": 0
      },
      "text/plain": [
       "HBox(children=(FloatProgress(value=0.0, max=1050.0), HTML(value='')))"
      ]
     },
     "metadata": {},
     "output_type": "display_data"
    },
    {
     "name": "stdout",
     "output_type": "stream",
     "text": [
      "Current Loss: 0.04539779390784956\n",
      "Current Loss: 0.08940536488202357\n",
      "\n",
      "[Training Epoch 4] Training loss: 0.094\n",
      "[Training Metrics]\n",
      "Precision: 85.92\n",
      "Recall: 85.62\n",
      "F1 Score: 85.77\n",
      "Acc: 97.09\n"
     ]
    },
    {
     "data": {
      "application/vnd.jupyter.widget-view+json": {
       "model_id": "290c2b25bad840bea2ae0d5283fba240",
       "version_major": 2,
       "version_minor": 0
      },
      "text/plain": [
       "HBox(children=(FloatProgress(value=0.0, max=225.0), HTML(value='')))"
      ]
     },
     "metadata": {},
     "output_type": "display_data"
    },
    {
     "name": "stdout",
     "output_type": "stream",
     "text": [
      "\n",
      "[Validation Epoch 4]\n",
      "Validation loss: 0.131\n",
      "[Validation Metrics]\n",
      "Precision: 81.86\n",
      "Recall: 82.12\n",
      "F1 Score: 81.99\n",
      "Acc: 95.98\n",
      "\n"
     ]
    }
   ],
   "source": [
    "total_training_loss = []\n",
    "total_validation_loss = []\n",
    "\n",
    "total_training_metric = []\n",
    "total_validation_metric = []\n",
    "\n",
    "for epoch in tqdm(range(epochs)):\n",
    "    model.train()\n",
    "    training_loss = 0\n",
    "    preds = []\n",
    "    targets = []\n",
    "    \n",
    "    for step, train_data in tqdm(enumerate(train_dataloader), total=len(train_dataloader)):\n",
    "        train_input_ids = train_data['input_ids'].to('cuda')\n",
    "        train_attention_mask = train_data['attention_mask'].to('cuda')\n",
    "        train_label = train_data['labels'].to('cuda')\n",
    "        \n",
    "        # Forward pass\n",
    "        model.zero_grad()\n",
    "        logits = model(train_input_ids, train_attention_mask)\n",
    "        \n",
    "        # Backward pass\n",
    "        if train_attention_mask is not None:\n",
    "            active_loss = train_attention_mask.view(-1) == 1\n",
    "            active_logits = logits.view(-1, 17)\n",
    "            active_labels = torch.where(\n",
    "                active_loss, train_label.view(-1), \n",
    "                torch.tensor(criterion.ignore_index).type_as(train_label)\n",
    "            )\n",
    "            loss = criterion(active_logits, active_labels)\n",
    "        else:\n",
    "            loss = criterion(logits.view(-1, 17), train_label.view(-1))\n",
    "            \n",
    "        loss.backward()\n",
    "        optimizer.step()\n",
    "        scheduler.step()\n",
    "        \n",
    "        training_loss += loss.item()\n",
    "        \n",
    "        preds.append(logits.detach().cpu().numpy())\n",
    "        targets.append(train_label.detach().cpu().numpy())\n",
    "        \n",
    "        if step % 500 == 0 and step != 0:\n",
    "            print('Current Loss: {}'.format(training_loss / len(train_dataloader)))\n",
    "    \n",
    "    results = compute_metrics(preds, targets)\n",
    "    print('[Training Epoch %d]\\nTraining loss: %.3f' %(epoch + 1, training_loss / len(train_dataloader)))\n",
    "    print('\\n[Training Metrics]')\n",
    "    print('Precision: {}\\nRecall: {}\\nF1 Score: {}\\nAcc: {}'.format(\n",
    "        round(results['overall_precision'] * 100, 2),\n",
    "        round(results['overall_recall'] * 100, 2),\n",
    "        round(results['overall_f1'] * 100, 2),\n",
    "        round(results['overall_accuracy'] * 100, 2)\n",
    "    ))\n",
    "    total_training_loss.append(training_loss / len(train_dataloader))\n",
    "    total_training_metric.append(results)\n",
    "    \n",
    "    model.eval()\n",
    "    validation_loss = 0\n",
    "    preds = []\n",
    "    targets = []\n",
    "    for step, valid_data in tqdm(enumerate(valid_dataloader), total=len(valid_dataloader)):\n",
    "        valid_input_ids = valid_data['input_ids'].to('cuda')\n",
    "        valid_attention_mask = valid_data['attention_mask'].to('cuda')\n",
    "        valid_label = valid_data['labels'].to('cuda')\n",
    "        \n",
    "        with torch.no_grad():\n",
    "            logits = model(valid_input_ids, valid_attention_mask)\n",
    "            \n",
    "        if valid_attention_mask is not None:\n",
    "            active_loss = valid_attention_mask.view(-1) == 1\n",
    "            active_logits = logits.view(-1, 17)\n",
    "            active_labels = torch.where(\n",
    "                active_loss, valid_label.view(-1), \n",
    "                torch.tensor(criterion.ignore_index).type_as(valid_label)\n",
    "            )\n",
    "            loss = criterion(active_logits, active_labels)\n",
    "        else:\n",
    "            loss = criterion(logits.view(-1, 17), train_label.view(-1))\n",
    "        \n",
    "        validation_loss += loss.item()\n",
    "        \n",
    "        preds.append(logits.detach().cpu().numpy())\n",
    "        targets.append(valid_label.detach().cpu().numpy())\n",
    "    \n",
    "    results = compute_metrics(preds, targets)\n",
    "    print('[Validation Epoch %d]\\nValidation loss: %.3f' %(epoch + 1, validation_loss / len(valid_dataloader)))\n",
    "    print('\\n[Validation Metrics]')\n",
    "    print('Precision: {}\\nRecall: {}\\nF1 Score: {}\\nAcc: {}'.format(\n",
    "        round(results['overall_precision'] * 100, 2),\n",
    "        round(results['overall_recall'] * 100, 2),\n",
    "        round(results['overall_f1'] * 100, 2),\n",
    "        round(results['overall_accuracy'] * 100, 2)\n",
    "    ))\n",
    "    total_validation_loss.append(validation_loss / len(valid_dataloader))\n",
    "    total_validation_metric.append(results)"
   ]
  },
  {
   "cell_type": "code",
   "execution_count": 20,
   "id": "temporal-destination",
   "metadata": {},
   "outputs": [
    {
     "data": {
      "image/png": "[encoded data removed]",
      "text/plain": [
       "<Figure size 1080x720 with 2 Axes>"
      ]
     },
     "metadata": {
      "needs_background": "light"
     },
     "output_type": "display_data"
    }
   ],
   "source": [
    "plt.figure(figsize=(15, 10))\n",
    "plt.subplot(221)\n",
    "plt.title('Training History')\n",
    "plt.plot(total_training_loss, '-o', label='training_loss')\n",
    "plt.plot(total_validation_loss, '-o', label='validation_loss')\n",
    "plt.legend();\n",
    "\n",
    "plt.subplot(222)\n",
    "plt.title('Accuracy History')\n",
    "train_acc = [metric['overall_accuracy'] for metric in total_training_metric]\n",
    "valid_acc = [metric['overall_accuracy'] for metric in total_validation_metric]\n",
    "plt.plot(train_acc, '-o', label='train_acc')\n",
    "plt.plot(valid_acc, '-o', label='valid_acc')\n",
    "plt.legend();"
   ]
  },
  {
   "cell_type": "markdown",
   "id": "decimal-southwest",
   "metadata": {},
   "source": [
    "# Model Evaluation"
   ]
  },
  {
   "cell_type": "code",
   "execution_count": 21,
   "id": "bottom-equipment",
   "metadata": {},
   "outputs": [],
   "source": [
    "test_dataset = NERDataset(test_sentences, test_tag, tokenizer)\n",
    "test_sampler = SequentialSampler(test_dataset)\n",
    "test_dataloader = DataLoader(test_dataset, batch_size=batch_size, sampler=test_sampler)"
   ]
  },
  {
   "cell_type": "code",
   "execution_count": 24,
   "id": "respective-lafayette",
   "metadata": {},
   "outputs": [
    {
     "data": {
      "application/vnd.jupyter.widget-view+json": {
       "model_id": "6bbd81011b5e41608c1164e8f6cb0e3e",
       "version_major": 2,
       "version_minor": 0
      },
      "text/plain": [
       "HBox(children=(FloatProgress(value=0.0, max=225.0), HTML(value='')))"
      ]
     },
     "metadata": {},
     "output_type": "display_data"
    },
    {
     "name": "stdout",
     "output_type": "stream",
     "text": [
      "\n"
     ]
    }
   ],
   "source": [
    "preds = []\n",
    "targets = []\n",
    "for test_data in tqdm(test_dataloader, total=len(test_dataloader)):\n",
    "    test_input_ids = test_data['input_ids'].to('cuda')\n",
    "    test_attention_mask = test_data['attention_mask'].to('cuda')\n",
    "    test_label = test_data['labels']\n",
    "\n",
    "    with torch.no_grad():\n",
    "        logits = model(test_input_ids, test_attention_mask)\n",
    "        \n",
    "    preds.append(logits.detach().cpu().numpy())\n",
    "    targets.append(test_label.detach().cpu().numpy())"
   ]
  },
  {
   "cell_type": "code",
   "execution_count": 26,
   "id": "egyptian-violation",
   "metadata": {},
   "outputs": [
    {
     "name": "stderr",
     "output_type": "stream",
     "text": [
      "/home/superceed1/anaconda3/envs/py38torch17/lib/python3.8/site-packages/seqeval/metrics/v1.py:57: UndefinedMetricWarning: Precision and F-score are ill-defined and being set to 0.0 in labels with no predicted samples. Use `zero_division` parameter to control this behavior.\n",
      "  _warn_prf(average, modifier, msg_start, len(result))\n"
     ]
    },
    {
     "data": {
      "text/plain": [
       "{'art': {'precision': 0.5,\n",
       "  'recall': 0.043010752688172046,\n",
       "  'f1': 0.07920792079207922,\n",
       "  'number': 93},\n",
       " 'eve': {'precision': 0.7647058823529411,\n",
       "  'recall': 0.2653061224489796,\n",
       "  'f1': 0.3939393939393939,\n",
       "  'number': 49},\n",
       " 'geo': {'precision': 0.8412102243088159,\n",
       "  'recall': 0.8971848225214198,\n",
       "  'f1': 0.8682963601119965,\n",
       "  'number': 8987},\n",
       " 'gpe': {'precision': 0.95427059712774,\n",
       "  'recall': 0.9195193008011653,\n",
       "  'f1': 0.9365727002967358,\n",
       "  'number': 2746},\n",
       " 'nat': {'precision': 0.0, 'recall': 0.0, 'f1': 0.0, 'number': 38},\n",
       " 'org': {'precision': 0.7355599214145383,\n",
       "  'recall': 0.7076167076167076,\n",
       "  'f1': 0.7213177921202195,\n",
       "  'number': 5291},\n",
       " 'per': {'precision': 0.7926944971537002,\n",
       "  'recall': 0.7902577441475526,\n",
       "  'f1': 0.791474245115453,\n",
       "  'number': 4229},\n",
       " 'tim': {'precision': 0.8674968071519795,\n",
       "  'recall': 0.8329245861434703,\n",
       "  'f1': 0.8498592430403502,\n",
       "  'number': 3262},\n",
       " 'overall_precision': 0.8264355713938608,\n",
       " 'overall_recall': 0.8264021056894109,\n",
       " 'overall_f1': 0.8264188382028388,\n",
       " 'overall_accuracy': 0.961312806034673}"
      ]
     },
     "execution_count": 26,
     "metadata": {},
     "output_type": "execute_result"
    }
   ],
   "source": [
    "results = compute_metrics(preds, targets)\n",
    "results"
   ]
  },
  {
   "cell_type": "markdown",
   "id": "cooked-drill",
   "metadata": {},
   "source": [
    "# Model inference"
   ]
  },
  {
   "cell_type": "code",
   "execution_count": 89,
   "id": "acting-consortium",
   "metadata": {},
   "outputs": [],
   "source": [
    "test_set = list(zip(test_sentences, test_tag))"
   ]
  },
  {
   "cell_type": "code",
   "execution_count": 110,
   "id": "defined-chapter",
   "metadata": {},
   "outputs": [],
   "source": [
    "selected_choice = np.random.choice(len(test_set))"
   ]
  },
  {
   "cell_type": "code",
   "execution_count": 111,
   "id": "korean-manchester",
   "metadata": {},
   "outputs": [],
   "source": [
    "tokenized_input = tokenizer(\n",
    "    test_set[selected_choice][0], is_split_into_words=True, return_offsets_mapping=True, padding='max_length', truncation=True,\n",
    "    return_tensors='pt', max_length=128\n",
    ")"
   ]
  },
  {
   "cell_type": "code",
   "execution_count": 112,
   "id": "afraid-toronto",
   "metadata": {},
   "outputs": [],
   "source": [
    "preds = model(tokenized_input['input_ids'].to('cuda'), tokenized_input['attention_mask'].to('cuda'))\n",
    "preds = preds.squeeze(0).detach().cpu().numpy()\n",
    "true_labels = [label_list[label] for label in test_set[selected_choice][1]]\n",
    "predictions = np.argmax(preds, axis=1)\n",
    "preds_labels = [label_list[p] for index, (p, l) in enumerate(zip(predictions, true_labels)) if index !=0 or index == len(list(zip(predictions, true_labels)))]"
   ]
  },
  {
   "cell_type": "code",
   "execution_count": 113,
   "id": "gorgeous-salad",
   "metadata": {},
   "outputs": [
    {
     "name": "stdout",
     "output_type": "stream",
     "text": [
      "Sent: ['The', 'militants', 'were', 'trying', 'to', 'take', 'it', 'back', ',', 'but', 'government', 'commanders', 'said', 'Friday', 'they', 'had', 'been', 'driven', 'off', '.']\n",
      "\n",
      "GT: ['O', 'O', 'O', 'O', 'O', 'O', 'O', 'O', 'O', 'O', 'O', 'O', 'O', 'B-tim', 'O', 'O', 'O', 'O', 'O', 'O']\n",
      "\n",
      "PRED: ['O', 'O', 'O', 'O', 'O', 'O', 'O', 'O', 'O', 'O', 'O', 'O', 'O', 'B-tim', 'O', 'O', 'O', 'O', 'O']\n"
     ]
    }
   ],
   "source": [
    "print('Sent: {}\\n\\nGT: {}\\n\\nPRED: {}'.format(test_set[selected_choice][0], true_labels, preds_labels))"
   ]
  }
 ],
 "metadata": {
  "kernelspec": {
   "display_name": "Python 3",
   "language": "python",
   "name": "python3"
  },
  "language_info": {
   "codemirror_mode": {
    "name": "ipython",
    "version": 3
   },
   "file_extension": ".py",
   "mimetype": "text/x-python",
   "name": "python",
   "nbconvert_exporter": "python",
   "pygments_lexer": "ipython3",
   "version": "3.8.8"
  }
 },
 "nbformat": 4,
 "nbformat_minor": 5
}
