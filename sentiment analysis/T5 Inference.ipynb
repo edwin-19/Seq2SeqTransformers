{
 "cells": [
  {
   "cell_type": "code",
   "execution_count": 1,
   "id": "green-paste",
   "metadata": {},
   "outputs": [],
   "source": [
    "from transformers import T5ForConditionalGeneration, T5Tokenizer"
   ]
  },
  {
   "cell_type": "markdown",
   "id": "ignored-massachusetts",
   "metadata": {},
   "source": [
    "# Load model & tokenizer"
   ]
  },
  {
   "cell_type": "code",
   "execution_count": 2,
   "id": "subsequent-processing",
   "metadata": {},
   "outputs": [],
   "source": [
    "model = T5ForConditionalGeneration.from_pretrained('weights/t5')\n",
    "model.to('cuda')\n",
    "model.eval()\n",
    "\n",
    "tokenizer = T5Tokenizer.from_pretrained('t5-small')"
   ]
  },
  {
   "cell_type": "code",
   "execution_count": 3,
   "id": "cordless-blackberry",
   "metadata": {},
   "outputs": [
    {
     "name": "stdout",
     "output_type": "stream",
     "text": [
      "Input: Life is great, Sentiment: positive\n",
      "Input: No i dont think life is great, Sentiment: negative\n",
      "Input: I hate my job, Sentiment: negative\n",
      "Input: But i love my job, Sentiment: positive\n",
      "Input: I wonder is life really that great, no i hate it, Sentiment: negative\n"
     ]
    }
   ],
   "source": [
    "batch_inputs = [\n",
    "    'Life is great', 'No i dont think life is great', \n",
    "    'I hate my job', 'But i love my job', 'I wonder is life really that great, no i hate it'\n",
    "]\n",
    "inputs = tokenizer.batch_encode_plus(\n",
    "    batch_inputs, max_length=100,\n",
    "    padding='max_length',\n",
    "    truncation=True,\n",
    "    return_token_type_ids=False,\n",
    "    return_tensors='pt'\n",
    ")\n",
    "outputs = model.generate(inputs['input_ids'].to('cuda'))\n",
    "decoded_outputs = tokenizer.batch_decode(outputs, clean_up_tokenization_spaces=True, skip_special_tokens=True)\n",
    "for index, output in enumerate(decoded_outputs):\n",
    "    print('Input: {}, Sentiment: {}'.format(batch_inputs[index], output))"
   ]
  }
 ],
 "metadata": {
  "kernelspec": {
   "display_name": "Python 3",
   "language": "python",
   "name": "python3"
  },
  "language_info": {
   "codemirror_mode": {
    "name": "ipython",
    "version": 3
   },
   "file_extension": ".py",
   "mimetype": "text/x-python",
   "name": "python",
   "nbconvert_exporter": "python",
   "pygments_lexer": "ipython3",
   "version": "3.8.8"
  }
 },
 "nbformat": 4,
 "nbformat_minor": 5
}
