{
 "cells": [
  {
   "cell_type": "code",
   "execution_count": 13,
   "id": "critical-powell",
   "metadata": {},
   "outputs": [],
   "source": [
    "import pandas as pd\n",
    "from matplotlib import pyplot as plt\n",
    "import seaborn as sns\n",
    "import json"
   ]
  },
  {
   "cell_type": "code",
   "execution_count": 3,
   "id": "canadian-sudan",
   "metadata": {},
   "outputs": [],
   "source": [
    "df = pd.read_csv('data/sentiment-analysis-on-movie-reviews/train.tsv', sep='\\t')"
   ]
  },
  {
   "cell_type": "code",
   "execution_count": 4,
   "id": "naked-niger",
   "metadata": {
    "scrolled": true
   },
   "outputs": [
    {
     "data": {
      "text/html": [
       "<div>\n",
       "<style scoped>\n",
       "    .dataframe tbody tr th:only-of-type {\n",
       "        vertical-align: middle;\n",
       "    }\n",
       "\n",
       "    .dataframe tbody tr th {\n",
       "        vertical-align: top;\n",
       "    }\n",
       "\n",
       "    .dataframe thead th {\n",
       "        text-align: right;\n",
       "    }\n",
       "</style>\n",
       "<table border=\"1\" class=\"dataframe\">\n",
       "  <thead>\n",
       "    <tr style=\"text-align: right;\">\n",
       "      <th></th>\n",
       "      <th>PhraseId</th>\n",
       "      <th>SentenceId</th>\n",
       "      <th>Phrase</th>\n",
       "      <th>Sentiment</th>\n",
       "    </tr>\n",
       "  </thead>\n",
       "  <tbody>\n",
       "    <tr>\n",
       "      <th>0</th>\n",
       "      <td>1</td>\n",
       "      <td>1</td>\n",
       "      <td>A series of escapades demonstrating the adage ...</td>\n",
       "      <td>1</td>\n",
       "    </tr>\n",
       "    <tr>\n",
       "      <th>1</th>\n",
       "      <td>2</td>\n",
       "      <td>1</td>\n",
       "      <td>A series of escapades demonstrating the adage ...</td>\n",
       "      <td>2</td>\n",
       "    </tr>\n",
       "    <tr>\n",
       "      <th>2</th>\n",
       "      <td>3</td>\n",
       "      <td>1</td>\n",
       "      <td>A series</td>\n",
       "      <td>2</td>\n",
       "    </tr>\n",
       "    <tr>\n",
       "      <th>3</th>\n",
       "      <td>4</td>\n",
       "      <td>1</td>\n",
       "      <td>A</td>\n",
       "      <td>2</td>\n",
       "    </tr>\n",
       "    <tr>\n",
       "      <th>4</th>\n",
       "      <td>5</td>\n",
       "      <td>1</td>\n",
       "      <td>series</td>\n",
       "      <td>2</td>\n",
       "    </tr>\n",
       "  </tbody>\n",
       "</table>\n",
       "</div>"
      ],
      "text/plain": [
       "   PhraseId  SentenceId                                             Phrase  \\\n",
       "0         1           1  A series of escapades demonstrating the adage ...   \n",
       "1         2           1  A series of escapades demonstrating the adage ...   \n",
       "2         3           1                                           A series   \n",
       "3         4           1                                                  A   \n",
       "4         5           1                                             series   \n",
       "\n",
       "   Sentiment  \n",
       "0          1  \n",
       "1          2  \n",
       "2          2  \n",
       "3          2  \n",
       "4          2  "
      ]
     },
     "execution_count": 4,
     "metadata": {},
     "output_type": "execute_result"
    }
   ],
   "source": [
    "df.head()"
   ]
  },
  {
   "cell_type": "code",
   "execution_count": 19,
   "id": "prescription-complaint",
   "metadata": {},
   "outputs": [],
   "source": [
    "with open('data/labels.json', 'r') as json_file:\n",
    "    data = json.loads(json_file.read())"
   ]
  },
  {
   "cell_type": "markdown",
   "id": "accessory-basic",
   "metadata": {},
   "source": [
    "# EDA"
   ]
  },
  {
   "cell_type": "code",
   "execution_count": 24,
   "id": "hundred-gravity",
   "metadata": {},
   "outputs": [
    {
     "data": {
      "image/png": "[encoded data removed]",
      "text/plain": [
       "<Figure size 1080x720 with 1 Axes>"
      ]
     },
     "metadata": {
      "needs_background": "light"
     },
     "output_type": "display_data"
    }
   ],
   "source": [
    "# Draw class distribution of sentiment\n",
    "plt.figure(figsize=(15, 10))\n",
    "df['sentiment_label'] = df['Sentiment'].apply(lambda x: data[str(x)])\n",
    "plt.title('Class Distribution')\n",
    "sns.countplot(data=df, x='sentiment_label');"
   ]
  },
  {
   "cell_type": "code",
   "execution_count": 21,
   "id": "running-copyright",
   "metadata": {},
   "outputs": [
    {
     "name": "stdout",
     "output_type": "stream",
     "text": [
      "Setence: feels painfully true\n",
      "Sentiment: neutral\n",
      "Setence: who enjoy moaning about their cruel fate\n",
      "Sentiment: negative\n",
      "Setence: puppy\n",
      "Sentiment: neutral\n",
      "Setence: -LRB- Tries -RRB- to parody\n",
      "Sentiment: somewhat negative\n",
      "Setence: Eddie Murphy deploys two\n",
      "Sentiment: neutral\n",
      "Setence: economical grace\n",
      "Sentiment: somewhat positive\n",
      "Setence: Granddad\n",
      "Sentiment: neutral\n",
      "Setence: Open-ended and\n",
      "Sentiment: neutral\n",
      "Setence: its own bathos\n",
      "Sentiment: neutral\n",
      "Setence: about something , one that attempts and often achieves a level of connection and concern\n",
      "Sentiment: somewhat positive\n"
     ]
    }
   ],
   "source": [
    "for val in df.sample(10).itertuples():\n",
    "    print('Setence: {}\\nSentiment: {}'.format(val.Phrase, data[str(val.Sentiment)]))"
   ]
  }
 ],
 "metadata": {
  "kernelspec": {
   "display_name": "Python 3",
   "language": "python",
   "name": "python3"
  },
  "language_info": {
   "codemirror_mode": {
    "name": "ipython",
    "version": 3
   },
   "file_extension": ".py",
   "mimetype": "text/x-python",
   "name": "python",
   "nbconvert_exporter": "python",
   "pygments_lexer": "ipython3",
   "version": "3.8.8"
  }
 },
 "nbformat": 4,
 "nbformat_minor": 5
}
