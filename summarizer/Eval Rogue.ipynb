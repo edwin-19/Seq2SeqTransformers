{
 "cells": [
  {
   "cell_type": "code",
   "execution_count": null,
   "id": "wooden-magnet",
   "metadata": {},
   "outputs": [],
   "source": [
    "from transformers import BartTokenizerFast, BartForConditionalGeneration, BartTokenizer\n",
    "from datasets import load_metric\n",
    "from sumeval.metrics.rouge import RougeCalculator\n",
    "import pandas as pd\n",
    "import numpy as np"
   ]
  },
  {
   "cell_type": "code",
   "execution_count": null,
   "id": "comfortable-antibody",
   "metadata": {},
   "outputs": [],
   "source": [
    "df = pd.read_csv('data/summarize/news_data.csv')"
   ]
  },
  {
   "cell_type": "code",
   "execution_count": null,
   "id": "noted-embassy",
   "metadata": {},
   "outputs": [],
   "source": [
    "rouge = RougeCalculator(stopwords=True, lang=\"en\")\n",
    "metric = load_metric('bleu')\n",
    "model = BartForConditionalGeneration.from_pretrained('sshleifer/distilbart-xsum-6-6')\n",
    "tokenizer = BartTokenizer.from_pretrained('sshleifer/distilbart-xsum-6-6')\n",
    "\n",
    "model.to('cuda')\n",
    "model.eval()"
   ]
  },
  {
   "cell_type": "code",
   "execution_count": null,
   "id": "paperback-kenya",
   "metadata": {},
   "outputs": [],
   "source": [
    "selected_df = df.iloc[:100]"
   ]
  },
  {
   "cell_type": "code",
   "execution_count": null,
   "id": "emerging-johns",
   "metadata": {},
   "outputs": [],
   "source": [
    "rogue_scores = {\n",
    "    'rogue_1': [],\n",
    "    'rogue_2': [],\n",
    "    'rogue_l': []\n",
    "}\n",
    "\n",
    "for index, data in selected_df.iterrows():\n",
    "    text = data['text']\n",
    "    headlines = data['headlines']\n",
    "    \n",
    "    inputs = tokenizer.encode_plus(\n",
    "        text,max_length=100, padding='max_length',\n",
    "        return_tensors='pt', truncation=True\n",
    "    )\n",
    "    \n",
    "    output = model.generate(\n",
    "        inputs['input_ids'].to('cuda'),\n",
    "#         min_length = round(0.1 * len(text.split(' '))), max_length = round(0.2 * len(text.split(' '))), do_sample=False\n",
    "    )\n",
    "    summ_text = tokenizer.decode(output.squeeze().detach().cpu(), skip_special_tokens=True, clean_up_tokenization_spaces=True)\n",
    "    \n",
    "    rouge_1 = rouge.rouge_n(\n",
    "        summary=summ_text,\n",
    "        references=headlines,\n",
    "        n=1\n",
    "    )\n",
    "    \n",
    "    rogue_2 = rouge.rouge_n(\n",
    "        summary=summ_text,\n",
    "        references=headlines,\n",
    "        n=2\n",
    "    )\n",
    "    \n",
    "    rogue_l = rouge.rouge_l(\n",
    "        summary=summ_text,\n",
    "        references=headlines\n",
    "    )\n",
    "    \n",
    "    rogue_scores['rogue_1'].append(rouge_1)\n",
    "    rogue_scores['rogue_2'].append(rogue_2)\n",
    "    rogue_scores['rogue_l'].append(rogue_l)\n",
    "\n",
    "np.mean(rogue_scores['rogue_1']), np.mean(rogue_scores['rogue_2']), np.mean(rogue_scores['rogue_l'])"
   ]
  }
 ],
 "metadata": {
  "kernelspec": {
   "display_name": "Python 3",
   "language": "python",
   "name": "python3"
  },
  "language_info": {
   "codemirror_mode": {
    "name": "ipython",
    "version": 3
   },
   "file_extension": ".py",
   "mimetype": "text/x-python",
   "name": "python",
   "nbconvert_exporter": "python",
   "pygments_lexer": "ipython3",
   "version": "3.8.8"
  }
 },
 "nbformat": 4,
 "nbformat_minor": 5
}
