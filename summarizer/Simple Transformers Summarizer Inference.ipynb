{
 "cells": [
  {
   "cell_type": "code",
   "execution_count": 1,
   "id": "verbal-outside",
   "metadata": {},
   "outputs": [],
   "source": [
    "from simpletransformers.seq2seq import Seq2SeqModel\n",
    "import pandas as pd\n",
    "import torch\n",
    "import numpy as np\n",
    "from sumeval.metrics.rouge import RougeCalculator\n",
    "import random"
   ]
  },
  {
   "cell_type": "code",
   "execution_count": 6,
   "id": "computational-globe",
   "metadata": {},
   "outputs": [],
   "source": [
    "df = pd.read_csv('data/summarize/news_data.csv')\n",
    "rogue = RougeCalculator(stopwords=True, lang='en')"
   ]
  },
  {
   "cell_type": "code",
   "execution_count": 3,
   "id": "earned-occupation",
   "metadata": {},
   "outputs": [],
   "source": [
    "model = Seq2SeqModel(\n",
    "    encoder_decoder_type='bart', \n",
    "    encoder_decoder_name='weights/outputs/best_model/',\n",
    "    use_cuda=torch.cuda.is_available()\n",
    ")"
   ]
  },
  {
   "cell_type": "code",
   "execution_count": 4,
   "id": "environmental-serbia",
   "metadata": {},
   "outputs": [
    {
     "data": {
      "application/vnd.jupyter.widget-view+json": {
       "model_id": "26e5badfda714a878254ebd9449c107b",
       "version_major": 2,
       "version_minor": 0
      },
      "text/plain": [
       "HBox(children=(FloatProgress(value=0.0, description='Generating outputs', max=2.0, style=ProgressStyle(descrip…"
      ]
     },
     "metadata": {},
     "output_type": "display_data"
    },
    {
     "name": "stdout",
     "output_type": "stream",
     "text": [
      "\n"
     ]
    }
   ],
   "source": [
    "outputs = model.predict(df['text'][:10].values.tolist())"
   ]
  },
  {
   "cell_type": "code",
   "execution_count": 9,
   "id": "aerial-housing",
   "metadata": {},
   "outputs": [
    {
     "name": "stdout",
     "output_type": "stream",
     "text": [
      "Text: the administration of union territory daman and diu has revoked its order that made it compulsory for women to tie rakhis to their male colleagues on the occasion of rakshabandhan on august 7 the administration was forced to withdraw the decision within 24 hours of issuing the circular after it received flak from employees and was slammed on social media\n",
      "Labelled: daman diu revokes mandatory rakshabandhan in offices order\n",
      "Pred: daman diu revokes rakshabandhan rule after criticism\n",
      "Rogue 1: 0.6154\n",
      "Rogue 2: 0.3636\n",
      "Rogue l: 0.6154\n",
      "\n",
      "Text: malaika arora slammed an instagram user who trolled her for divorcing a rich man and having fun with the alimony her life now is all about wearing short clothes going to gym or salon enjoying vacation s the user commented malaika responded you certainly got to get your damn facts right before spewing sh t on me when you know nothing about me\n",
      "Labelled: malaika slams user who trolled her for divorcing rich man\n",
      "Pred: malaika slams user who trolled her for divorcing rich man\n",
      "Rogue 1: 1.0\n",
      "Rogue 2: 1.0\n",
      "Rogue l: 1.0\n",
      "\n",
      "Text: the indira gandhi institute of medical sciences igims in patna on thursday made corrections in its marital declaration form by changing virgin option to unmarried earlier bihar health minister defined virgin as being an unmarried woman and did not consider the term objectionable the institute however faced strong backlash for asking new recruits to declare their virginity in the form\n",
      "Labelled: virgin now corrected to unmarried in igims form\n",
      "Pred: iisc changes virgin option to unmarried in marital form\n",
      "Rogue 1: 0.5455\n",
      "Rogue 2: 0\n",
      "Rogue l: 0.5455\n",
      "\n",
      "Text: lashkar e taiba s kashmir commander abu dujana who was killed by security forces said kabhi hum aage kabhi aap aaj aapne pakad liya mubarak ho aapko today you caught me congratulations after being caught he added that he won t surrender and whatever is in his fate will happen to him hum nikley they shaheed hone had left home for martyrdom he added\n",
      "Labelled: aaj aapne pakad liya let man dujana before being killed\n",
      "Pred: kabhi hum aage kabhi aap aaj aapne pak\n",
      "Rogue 1: 0.2667\n",
      "Rogue 2: 0.1538\n",
      "Rogue l: 0.2667\n",
      "\n",
      "Text: hotels in maharashtra will train their staff to spot signs of sex trafficking including frequent requests for bed linen changes and do not disturb signs left on room doors for days a mobile phone app called rescue me which will allow staff to alert police of suspicious behaviour will be developed the initiative has been backed by the maharashtra government\n",
      "Labelled: hotel staff to get training to spot signs of sex trafficking\n",
      "Pred: hotels to train staff to spot signs of sex trafficking\n",
      "Rogue 1: 0.7143\n",
      "Rogue 2: 0.5\n",
      "Rogue l: 0.7143\n",
      "\n",
      "Text: a 32 year old man on wednesday was found hanging inside the washroom of a delhi police station after he was called for interrogation his family alleged that he could have been emotionally and physically tortured police said the man was named as a suspect in the kidnapping case of a married woman with whom he had been in a relationship earlier\n",
      "Labelled: man found dead at delhi police station kin allege foul play\n",
      "Pred: man found hanging at delhi police station kin allege torture\n",
      "Rogue 1: 0.7368\n",
      "Rogue 2: 0.5882\n",
      "Rogue l: 0.7368\n",
      "\n",
      "Text: the delhi high court reduced the compensation awarded to a motor accident victim by 45 after it found negligence on the part of both parties a compensation of 10 lakh was earlier awarded to the victim the court observed it s possible despite the vehicle being driven in permissible limit an accident can occur when a jaywalker suddenly appears on road\n",
      "Labelled: delhi hc reduces aid for negligent accident victim by 45\n",
      "Pred: delhi hc reduces compensation for accident victim by 45\n",
      "Rogue 1: 0.8\n",
      "Rogue 2: 0.6154\n",
      "Rogue l: 0.8\n",
      "\n",
      "Text: a 60 year old dalit woman was allegedly lynched in agra after villagers thought that she was behind the recent cases of chopping hair of sleeping women the family members of the woman who left home around 4 am on wednesday said she pleaded that she had lost her way but they took her as one responsible for chopping women hair\n",
      "Labelled: 60 yr old lynched over rumours she was cutting people s hair\n",
      "Pred: dalit woman lynched in agra over alleged hair chopping\n",
      "Rogue 1: 0.2857\n",
      "Rogue 2: 0\n",
      "Rogue l: 0.2857\n",
      "\n",
      "Text: an inquiry by the aircraft accident investigation bureau found that the pawan hans helicopter was flying at a critically low height resulting in its crash near bombay high in 2015 the report further mentioned that the instructor despite being aware of the low height didn t take control of the helicopter after the trainee pilot wasn t able to manage the situation\n",
      "Labelled: chopper flying critically low led to 2015 bombay high crash\n",
      "Pred: chopper flying critically low led to 2015 bombay high crash\n",
      "Rogue 1: 1.0\n",
      "Rogue 2: 1.0\n",
      "Rogue l: 1.0\n",
      "\n",
      "Text: the congress party has opened a bank called state bank of tomato in uttar pradesh s lucknow in a protest against the rising prices of the vegetable people can get interests on deposits and also get vegetables on loan in the bank i have deposited 0 5 kg tomatoes will get 1 kg after 6 months said a man\n",
      "Labelled: congress opens state bank of tomato in lucknow\n",
      "Pred: congress opens bank of tomato in lucknow in protest against rising prices\n",
      "Rogue 1: 0.7143\n",
      "Rogue 2: 0.5\n",
      "Rogue l: 0.7143\n",
      "\n"
     ]
    }
   ],
   "source": [
    "for index, output in enumerate(outputs):\n",
    "    rouge_1 = rogue.rouge_n(\n",
    "        summary=output,\n",
    "        references=df.iloc[index]['headlines'],\n",
    "        n=1\n",
    "    )\n",
    "    \n",
    "    rogue_2 = rogue.rouge_n(\n",
    "        summary=output,\n",
    "        references=df.iloc[index]['headlines'],\n",
    "        n=2\n",
    "    )\n",
    "    \n",
    "    rogue_l = rogue.rouge_l(\n",
    "        summary=output,\n",
    "        references=df.iloc[index]['headlines']\n",
    "    )\n",
    "    \n",
    "    print('Text: {}'.format(df.iloc[index]['text']))\n",
    "    print('Labelled: {}'.format(df.iloc[index]['headlines']))\n",
    "    print('Pred: {}'.format(output))\n",
    "    print('Rogue 1: {}'.format(round(rouge_1, 4)))\n",
    "    print('Rogue 2: {}'.format(round(rogue_2, 4)))\n",
    "    print('Rogue l: {}\\n'.format(round(rogue_l, 4)))"
   ]
  }
 ],
 "metadata": {
  "kernelspec": {
   "display_name": "Python 3",
   "language": "python",
   "name": "python3"
  },
  "language_info": {
   "codemirror_mode": {
    "name": "ipython",
    "version": 3
   },
   "file_extension": ".py",
   "mimetype": "text/x-python",
   "name": "python",
   "nbconvert_exporter": "python",
   "pygments_lexer": "ipython3",
   "version": "3.8.8"
  }
 },
 "nbformat": 4,
 "nbformat_minor": 5
}
